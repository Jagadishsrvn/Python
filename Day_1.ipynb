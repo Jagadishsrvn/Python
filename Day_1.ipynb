{
 "cells": [
  {
   "cell_type": "markdown",
   "id": "d03e0f2d-1e38-453c-a34f-6bf01dd7212a",
   "metadata": {},
   "source": [
    "### Python\n",
    "    Python is a high-level, interpreted, general-purpose programming language.\n",
    "    High-level: Closer to human language, easier to read and write compared to low-level languages.\n",
    "    Interpreted: Code is executed line by line, making it easier to test and debug.\n",
    "    General-purpose: Can be used for a wide variety of tasks."
   ]
  },
  {
   "cell_type": "markdown",
   "id": "4cab819d-9ab6-4706-a7dd-d08e9f4904ed",
   "metadata": {},
   "source": [
    "### Print()"
   ]
  },
  {
   "cell_type": "code",
   "execution_count": 1,
   "id": "c35d9ac2-b88f-45ea-a6c1-9c6006a6e149",
   "metadata": {},
   "outputs": [
    {
     "name": "stdout",
     "output_type": "stream",
     "text": [
      "Hello, World!\n"
     ]
    }
   ],
   "source": [
    "# The print() function in Python is used to display output to the console.\n",
    "print(\"Hello, World!\")"
   ]
  },
  {
   "cell_type": "code",
   "execution_count": 2,
   "id": "f4c421fb-1447-4856-afe9-826cd8625d4f",
   "metadata": {},
   "outputs": [
    {
     "name": "stdout",
     "output_type": "stream",
     "text": [
      "Python is high-level, interpreted programming language\n"
     ]
    }
   ],
   "source": [
    "print(\"Python is high-level, interpreted programming language\")"
   ]
  },
  {
   "cell_type": "markdown",
   "id": "c43e19b3-3e46-43e5-9b1d-3e0257251f37",
   "metadata": {},
   "source": [
    "### Comments\n",
    "    >> used to explain code\n",
    "    >> it makes code readable\n",
    "    >> Comments/ commented lines can prevent execution of code\n",
    "    >> Explaining the logic behind the code\n",
    "    >> Temporarily disabling parts of the code for debugging"
   ]
  },
  {
   "cell_type": "code",
   "execution_count": null,
   "id": "85771cb7-993a-4803-ae46-ac676437a415",
   "metadata": {},
   "outputs": [],
   "source": [
    "1. Single line comment use # at the begining of line\n",
    "2. For multiple line comment >> control + / \n",
    "3. Triple quotes>>>    \"\"\" write here \"\"\""
   ]
  },
  {
   "cell_type": "code",
   "execution_count": null,
   "id": "b623b63d-4ea9-45cc-b922-ec28e743f681",
   "metadata": {},
   "outputs": [],
   "source": [
    "# This is comment- code i am going to write is for filtering the odd and oven number"
   ]
  },
  {
   "cell_type": "markdown",
   "id": "226544b9-b8e3-4f59-85b9-5077492d8937",
   "metadata": {},
   "source": [
    "### Indentation:\n",
    "Space at the beginning\n",
    "\n",
    "Python uses indentation (spaces/tabs) to define code blocks"
   ]
  },
  {
   "cell_type": "code",
   "execution_count": 4,
   "id": "e76db1d8-52b9-4634-931d-c6e5769e533b",
   "metadata": {},
   "outputs": [
    {
     "name": "stdout",
     "output_type": "stream",
     "text": [
      " we are learning indentation\n"
     ]
    }
   ],
   "source": [
    "if 10> 4:\n",
    " print(\" We are learning indentation\")"
   ]
  },
  {
   "cell_type": "code",
   "execution_count": 7,
   "id": "249fe950-055a-4b8f-82b2-1afccd7f652e",
   "metadata": {},
   "outputs": [
    {
     "name": "stdout",
     "output_type": "stream",
     "text": [
      "Five is greater than two!\n"
     ]
    }
   ],
   "source": [
    "if 5 > 2:  \n",
    " print(\"Five is greater than two!\")  # Indented block "
   ]
  },
  {
   "cell_type": "markdown",
   "id": "b9f4a799-a804-4955-a418-c9ee537c29d9",
   "metadata": {},
   "source": [
    "## Variables\n",
    "    >> Container to store data\n",
    "    >> No need to specify data type of variable\n",
    "    >> = sign is used to assign values to variable\n",
    "##### Rules for Defining Variables:\n",
    "    >> Start with a letter/underscore (_name).\n",
    "    >> They cannot start with a number.\n",
    "    >> They are case-sensitive (age is different from Age).\n",
    "    >> Avoid using Python keywords (e.g., if, else, for, while) as variable names (reserved keywords)\n",
    "    >> Variable names should be descriptive and meaningful (not a rule)"
   ]
  },
  {
   "cell_type": "raw",
   "id": "6fcaf8e0-2c64-4cf3-9cba-4fef32fa8585",
   "metadata": {},
   "source": []
  },
  {
   "cell_type": "code",
   "execution_count": 8,
   "id": "ec9c1d11-e7aa-45cc-9852-fafa964a762f",
   "metadata": {},
   "outputs": [
    {
     "name": "stdout",
     "output_type": "stream",
     "text": [
      "15\n",
      "Python\n",
      "[5, 10, 'A', 'Apple']\n"
     ]
    }
   ],
   "source": [
    "# here a1 is a variable that store a value 5\n",
    "a1=15\n",
    "print(a1)\n",
    "\n",
    "# here subject is a variable that store the string \n",
    "subject=\"Python\"\n",
    "print(subject)\n",
    "\n",
    "# here lista1 is a variable that store the list\n",
    "lista1=[5,10,'A',\"Apple\"]\n",
    "print(lista1)"
   ]
  }
 ],
 "metadata": {
  "kernelspec": {
   "display_name": "Python 3 (ipykernel)",
   "language": "python",
   "name": "python3"
  },
  "language_info": {
   "codemirror_mode": {
    "name": "ipython",
    "version": 3
   },
   "file_extension": ".py",
   "mimetype": "text/x-python",
   "name": "python",
   "nbconvert_exporter": "python",
   "pygments_lexer": "ipython3",
   "version": "3.13.5"
  }
 },
 "nbformat": 4,
 "nbformat_minor": 5
}
