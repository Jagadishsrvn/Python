{
 "cells": [
  {
   "cell_type": "markdown",
   "id": "4fc655d3-3d43-4aac-9adc-466c0d098cd5",
   "metadata": {},
   "source": [
    "### Numeric Datatype\n",
    "    Integer (int): Whole numbers (age = 30, count = 100).\n",
    "    Float (float): Decimal numbers (price = 99.99, pi = 3.14159)\n",
    "    Complex (complex) : Combination of real and imaginary (3+4i)"
   ]
  },
  {
   "cell_type": "code",
   "execution_count": 3,
   "id": "9e5b4ed9-4987-4a10-a709-1996cfdfcf51",
   "metadata": {},
   "outputs": [
    {
     "name": "stdout",
     "output_type": "stream",
     "text": [
      "15\n",
      "<class 'int'>\n",
      "<class 'int'>\n",
      "<class 'int'>\n"
     ]
    }
   ],
   "source": [
    "# int\n",
    "a=5\n",
    "b=10\n",
    "c=a+b\n",
    "print(c)\n",
    "# type() is a in-build function that tell what type of date we have stored in variable\n",
    "print(type(a))\n",
    "print(type(b))\n",
    "print(type(c))"
   ]
  },
  {
   "cell_type": "code",
   "execution_count": 6,
   "id": "dc5148f4-1990-4faa-8b39-29fb89892e6b",
   "metadata": {},
   "outputs": [
    {
     "name": "stdout",
     "output_type": "stream",
     "text": [
      "-20.0\n",
      "<class 'float'>\n",
      "<class 'float'>\n",
      "<class 'float'>\n"
     ]
    }
   ],
   "source": [
    "# float\n",
    "a1=10.5\n",
    "b1=30.5\n",
    "c1=a1+b1\n",
    "print(c1)\n",
    "print(type(a1))\n",
    "print(type(b1))\n",
    "print(type(c1))\n"
   ]
  },
  {
   "cell_type": "code",
   "execution_count": 8,
   "id": "7ded5f32-24e7-4beb-9503-5cf07073471a",
   "metadata": {},
   "outputs": [
    {
     "name": "stdout",
     "output_type": "stream",
     "text": [
      "(4+6j)\n",
      "<class 'complex'>\n",
      "<class 'complex'>\n",
      "<class 'complex'>\n"
     ]
    }
   ],
   "source": [
    "# complex.\n",
    "z1 = 3 + 4j\n",
    "z2 = 1 + 2j\n",
    "z3=z1+z2\n",
    "print(z3)\n",
    "print(type(z1))\n",
    "print(type(z2))\n",
    "print(type(z3))"
   ]
  },
  {
   "cell_type": "code",
   "execution_count": 11,
   "id": "08f92ead-edec-4157-80f0-f0bf4b45c346",
   "metadata": {},
   "outputs": [
    {
     "name": "stdout",
     "output_type": "stream",
     "text": [
      "4.0\n",
      "3.0\n"
     ]
    }
   ],
   "source": [
    "z=4+3j\n",
    "print(z.real) # to print the real number\n",
    "print(z.imag) # to print the imaginary number"
   ]
  },
  {
   "cell_type": "code",
   "execution_count": 31,
   "id": "4f68577c-34aa-4a93-b842-294e0b95fd50",
   "metadata": {},
   "outputs": [
    {
     "name": "stdout",
     "output_type": "stream",
     "text": [
      "Absolute Value: 7\n"
     ]
    }
   ],
   "source": [
    "# Absolute Value which convert negative value into positive value\n",
    "result1 = abs(-7)\n",
    "print(\"Absolute Value:\", result1)"
   ]
  },
  {
   "cell_type": "markdown",
   "id": "71df9060-53ee-443b-89d4-7369a630fe85",
   "metadata": {},
   "source": [
    "## Python Type Casting\n",
    "    >> Used to specify variable type\n",
    "    >> To change data type of variable\n",
    "    >> Not all conversions are possible\n",
    "    >> TypeError: can't convert ( complex to int, complex to float. \n",
    "    >> ValueError: invalid literal for int(),float(), complex() (string to int, string to float & string to complex)"
   ]
  },
  {
   "cell_type": "code",
   "execution_count": 16,
   "id": "641b8202-50f2-4e67-b1b1-21b342e7cb79",
   "metadata": {},
   "outputs": [
    {
     "name": "stdout",
     "output_type": "stream",
     "text": [
      "50.0\n",
      "<class 'int'>\n",
      "<class 'float'>\n"
     ]
    }
   ],
   "source": [
    "# 1. Coverting int to float\n",
    "a=50\n",
    "b=float(a)\n",
    "print(b)\n",
    "print(type(a))\n",
    "print(type(b))"
   ]
  },
  {
   "cell_type": "code",
   "execution_count": 15,
   "id": "602d2294-4d7b-4c76-a3e7-4d6bb8190b24",
   "metadata": {},
   "outputs": [
    {
     "name": "stdout",
     "output_type": "stream",
     "text": [
      "45\n",
      "<class 'float'>\n",
      "<class 'int'>\n"
     ]
    }
   ],
   "source": [
    "# 2. Converting float into int\n",
    "a= 45.9999999999999\n",
    "b= int(a)\n",
    "print(b)\n",
    "print(type(a))\n",
    "print(type(b))"
   ]
  },
  {
   "cell_type": "code",
   "execution_count": 23,
   "id": "45bd0ea1-fcc3-4e1c-80cd-333204b9621c",
   "metadata": {},
   "outputs": [
    {
     "name": "stdout",
     "output_type": "stream",
     "text": [
      "(30+0j)\n",
      "<class 'int'>\n",
      "<class 'complex'>\n"
     ]
    }
   ],
   "source": [
    "# 3. Converting int to complex\n",
    "a=30\n",
    "b=complex(a)\n",
    "print(b)\n",
    "print(type(a))\n",
    "print(type(b))"
   ]
  },
  {
   "cell_type": "code",
   "execution_count": 27,
   "id": "ae544f9a-de02-4344-83a6-f06937438c36",
   "metadata": {
    "collapsed": true,
    "jupyter": {
     "outputs_hidden": true
    }
   },
   "outputs": [
    {
     "name": "stdout",
     "output_type": "stream",
     "text": [
      "(49.59868+0j)\n",
      "<class 'float'>\n",
      "<class 'complex'>\n"
     ]
    }
   ],
   "source": [
    "# 4. Converting float into complex\n",
    "a=49.59868\n",
    "b=complex(a)\n",
    "print(b)\n",
    "print(type(a))\n",
    "print(type(b))"
   ]
  },
  {
   "cell_type": "code",
   "execution_count": 28,
   "id": "b65b9d95-36a0-47c8-858a-2e3139866010",
   "metadata": {},
   "outputs": [
    {
     "name": "stdout",
     "output_type": "stream",
     "text": [
      "7856\n",
      "<class 'int'>\n",
      "<class 'str'>\n"
     ]
    }
   ],
   "source": [
    "# 5. Converting int to string\n",
    "a=7856\n",
    "b=str(a)\n",
    "print(b)\n",
    "print(type(a))\n",
    "print(type(b))"
   ]
  },
  {
   "cell_type": "code",
   "execution_count": 29,
   "id": "9c8b45e9-6273-4c81-9af8-c4d6d4e67583",
   "metadata": {},
   "outputs": [
    {
     "name": "stdout",
     "output_type": "stream",
     "text": [
      "49.59999\n",
      "<class 'float'>\n",
      "<class 'str'>\n"
     ]
    }
   ],
   "source": [
    "# 6. Converting float to string\n",
    "a=49.59999\n",
    "b=str(a)\n",
    "print(b)\n",
    "print(type(a))\n",
    "print(type(b))"
   ]
  },
  {
   "cell_type": "code",
   "execution_count": 32,
   "id": "9d58703c-786c-40d1-9e42-ed149f36eb70",
   "metadata": {},
   "outputs": [
    {
     "name": "stdout",
     "output_type": "stream",
     "text": [
      "(23+1j)\n",
      "<class 'complex'>\n",
      "<class 'str'>\n"
     ]
    }
   ],
   "source": [
    "# 7. Converting complex to string\n",
    "a=23+1j\n",
    "b=str(a)\n",
    "print(b)\n",
    "print(type(a))\n",
    "print(type(b))"
   ]
  }
 ],
 "metadata": {
  "kernelspec": {
   "display_name": "Python 3 (ipykernel)",
   "language": "python",
   "name": "python3"
  },
  "language_info": {
   "codemirror_mode": {
    "name": "ipython",
    "version": 3
   },
   "file_extension": ".py",
   "mimetype": "text/x-python",
   "name": "python",
   "nbconvert_exporter": "python",
   "pygments_lexer": "ipython3",
   "version": "3.13.5"
  }
 },
 "nbformat": 4,
 "nbformat_minor": 5
}
